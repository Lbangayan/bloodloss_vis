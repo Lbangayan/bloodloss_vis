{
 "cells": [
  {
   "cell_type": "code",
   "execution_count": 2,
   "metadata": {},
   "outputs": [],
   "source": [
    "import pandas as pd\n",
    "import plotly.express as px\n",
    "import plotly.graph_objects as go\n",
    "df_cases = pd.read_csv(\"https://api.vitaldb.net/cases\")\n",
    "df_cases.columns\n",
    "df = df_cases[['intraop_uo', 'intraop_rbc', 'intraop_ffp', 'intraop_crystalloid',\n",
    "               'intraop_colloid', 'intraop_ppf', 'intraop_mdz', 'intraop_ftn',\n",
    "               'intraop_rocu', 'intraop_vecu', 'intraop_eph', 'intraop_phe',\n",
    "               'intraop_epi', 'intraop_ca', 'intraop_ebl','icu_days', 'approach', 'ane_type',\n",
    "               'casestart', 'caseend', 'sex', 'preop_htn', 'preop_dm','age']]\n",
    "\n",
    "# df.to_json('health_data', orient = 'records')\n"
   ]
  },
  {
   "cell_type": "code",
   "execution_count": 4,
   "metadata": {},
   "outputs": [
    {
     "data": {
      "text/plain": [
       "array([1.53861169, 0.22304228, 2.0021613 ])"
      ]
     },
     "execution_count": 4,
     "metadata": {},
     "output_type": "execute_result"
    }
   ],
   "source": [
    "import sklearn.linear_model as lm\n",
    "import numpy as np\n",
    "\n",
    "# Drop rows where 'intraop_ebl' is NaN\n",
    "df = df.dropna(subset=['intraop_ebl'])\n",
    "\n",
    "# Calculate Q1 (25th percentile) and Q3 (75th percentile)\n",
    "Q1 = df['intraop_ebl'].quantile(0.25)\n",
    "Q3 = df['intraop_ebl'].quantile(0.75)\n",
    "\n",
    "# Calculate IQR (Interquartile Range)\n",
    "IQR = Q3 - Q1\n",
    "\n",
    "# Define the lower and upper bounds for outliers\n",
    "lower_bound = Q1 - 1.5 * IQR\n",
    "upper_bound = Q3 + 1.5 * IQR\n",
    "\n",
    "# Filter out the outliers\n",
    "df_filtered = df[(df['intraop_ebl'] >= lower_bound) & (df['intraop_ebl'] <= upper_bound)]\n",
    "\n",
    "# Define the target variable and features\n",
    "y = df_filtered['intraop_ebl']\n",
    "x = df_filtered[['intraop_eph', 'intraop_phe', 'intraop_epi']]\n",
    "\n",
    "# Create and fit the linear regression model\n",
    "model = lm.LinearRegression()\n",
    "model.fit(x, y)\n",
    "\n",
    "# Output the coefficients\n",
    "model.coef_"
   ]
  },
  {
   "cell_type": "code",
   "execution_count": 33,
   "metadata": {},
   "outputs": [
    {
     "data": {
      "text/plain": [
       "np.float64(3.6742646003196016)"
      ]
     },
     "execution_count": 33,
     "metadata": {},
     "output_type": "execute_result"
    }
   ],
   "source": [
    "model.coef_[0]"
   ]
  },
  {
   "cell_type": "code",
   "execution_count": null,
   "metadata": {},
   "outputs": [
    {
     "data": {
      "text/plain": [
       "count     3987.000000\n",
       "mean       363.210936\n",
       "std       1145.816066\n",
       "min          0.000000\n",
       "25%         50.000000\n",
       "50%        150.000000\n",
       "75%        300.000000\n",
       "max      30100.000000\n",
       "Name: intraop_ebl, dtype: float64"
      ]
     },
     "execution_count": 56,
     "metadata": {},
     "output_type": "execute_result"
    }
   ],
   "source": [
    "df['intraop_ebl']"
   ]
  },
  {
   "cell_type": "code",
   "execution_count": 7,
   "metadata": {},
   "outputs": [
    {
     "data": {
      "text/plain": [
       "preop_htn\n",
       "0    167.728730\n",
       "1    183.233988\n",
       "Name: intraop_ebl, dtype: float64"
      ]
     },
     "execution_count": 7,
     "metadata": {},
     "output_type": "execute_result"
    }
   ],
   "source": [
    "df_filtered.groupby('preop_htn')['intraop_ebl'].mean()"
   ]
  },
  {
   "cell_type": "code",
   "execution_count": 55,
   "metadata": {},
   "outputs": [
    {
     "data": {
      "text/plain": [
       "preop_htn\n",
       "0    4423\n",
       "1    1965\n",
       "Name: count, dtype: int64"
      ]
     },
     "execution_count": 55,
     "metadata": {},
     "output_type": "execute_result"
    }
   ],
   "source": [
    "df['preop_htn'].value_counts()"
   ]
  },
  {
   "cell_type": "code",
   "execution_count": null,
   "metadata": {},
   "outputs": [
    {
     "data": {
      "text/plain": [
       "count    6388.000000\n",
       "mean       57.296493\n",
       "std        14.976461\n",
       "min         0.300000\n",
       "25%        48.000000\n",
       "50%        59.000000\n",
       "75%        68.000000\n",
       "max        94.000000\n",
       "Name: age, dtype: float64"
      ]
     },
     "execution_count": 62,
     "metadata": {},
     "output_type": "execute_result"
    },
    {
     "ename": "",
     "evalue": "",
     "output_type": "error",
     "traceback": [
      "\u001b[1;31mThe Kernel crashed while executing code in the current cell or a previous cell. \n",
      "\u001b[1;31mPlease review the code in the cell(s) to identify a possible cause of the failure. \n",
      "\u001b[1;31mClick <a href='https://aka.ms/vscodeJupyterKernelCrash'>here</a> for more info. \n",
      "\u001b[1;31mView Jupyter <a href='command:jupyter.viewOutput'>log</a> for further details."
     ]
    }
   ],
   "source": [
    "df['age'].describe()"
   ]
  },
  {
   "cell_type": "code",
   "execution_count": null,
   "metadata": {},
   "outputs": [],
   "source": []
  }
 ],
 "metadata": {
  "kernelspec": {
   "display_name": "dsc80",
   "language": "python",
   "name": "python3"
  },
  "language_info": {
   "codemirror_mode": {
    "name": "ipython",
    "version": 3
   },
   "file_extension": ".py",
   "mimetype": "text/x-python",
   "name": "python",
   "nbconvert_exporter": "python",
   "pygments_lexer": "ipython3",
   "version": "3.12.6"
  }
 },
 "nbformat": 4,
 "nbformat_minor": 2
}
